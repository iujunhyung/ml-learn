{
 "cells": [
  {
   "cell_type": "markdown",
   "metadata": {},
   "source": [
    "# 공급망 최적화"
   ]
  },
  {
   "cell_type": "code",
   "execution_count": 322,
   "metadata": {},
   "outputs": [],
   "source": [
    "from internal.hprint import hprint\n",
    "import pandas\tas pd\n",
    "import numpy as\tnp\n",
    "import matplotlib.pyplot as\tplt\n",
    "from\tsklearn.preprocessing\timport\tStandardScaler\n",
    "import tensorflow\tas\ttf\n",
    "from tensorflow import keras\n",
    "import os\n",
    "import shutil\n",
    "from sklearn.metrics import mean_absolute_error\n",
    "\n",
    "# 데이터 불러오기\n",
    "data = pd.read_excel('data.xls')\n",
    "\n",
    "# 94번 제품의 데이터만 추출\n",
    "data_94 = data[(data[\"Part Number\"]=='Part 94')]\n",
    "data_94.reset_index(drop=True, inplace=True)"
   ]
  },
  {
   "cell_type": "code",
   "execution_count": 323,
   "metadata": {},
   "outputs": [
    {
     "data": {
      "text/html": [
       "<div>\n",
       "<style scoped>\n",
       "    .dataframe tbody tr th:only-of-type {\n",
       "        vertical-align: middle;\n",
       "    }\n",
       "\n",
       "    .dataframe tbody tr th {\n",
       "        vertical-align: top;\n",
       "    }\n",
       "\n",
       "    .dataframe thead th {\n",
       "        text-align: right;\n",
       "    }\n",
       "</style>\n",
       "<table border=\"1\" class=\"dataframe\">\n",
       "  <thead>\n",
       "    <tr style=\"text-align: right;\">\n",
       "      <th></th>\n",
       "      <th>D일 투입예정 수량(D일계획)</th>\n",
       "      <th>D+1일 투입예정 수량(Total)</th>\n",
       "      <th>D+2일 투입예정 수량(Total)</th>\n",
       "      <th>D+3일 투입예정 수량(Total)</th>\n",
       "      <th>D+4일 투입예정 수량(Total)</th>\n",
       "      <th>D+5일 투입예정 수량</th>\n",
       "      <th>D+6일 투입예정 수량</th>\n",
       "      <th>D+7일 투입예정 수량</th>\n",
       "      <th>D+8일 투입예정 수량</th>\n",
       "      <th>D+9일 투입예정 수량</th>\n",
       "      <th>D+10일 투입예정 수량</th>\n",
       "      <th>D+11일 투입예정 수량</th>\n",
       "      <th>D+12일 투입예정 수량</th>\n",
       "      <th>CRET_TIME</th>\n",
       "    </tr>\n",
       "  </thead>\n",
       "  <tbody>\n",
       "    <tr>\n",
       "      <th>0</th>\n",
       "      <td>42</td>\n",
       "      <td>32</td>\n",
       "      <td>30</td>\n",
       "      <td>30</td>\n",
       "      <td>30</td>\n",
       "      <td>38</td>\n",
       "      <td>0</td>\n",
       "      <td>30</td>\n",
       "      <td>30</td>\n",
       "      <td>30</td>\n",
       "      <td>30</td>\n",
       "      <td>30</td>\n",
       "      <td>0</td>\n",
       "      <td>2021-09-13 18:30:00</td>\n",
       "    </tr>\n",
       "    <tr>\n",
       "      <th>1</th>\n",
       "      <td>40</td>\n",
       "      <td>30</td>\n",
       "      <td>30</td>\n",
       "      <td>30</td>\n",
       "      <td>50</td>\n",
       "      <td>45</td>\n",
       "      <td>30</td>\n",
       "      <td>30</td>\n",
       "      <td>30</td>\n",
       "      <td>30</td>\n",
       "      <td>30</td>\n",
       "      <td>0</td>\n",
       "      <td>0</td>\n",
       "      <td>2021-09-14 17:30:00</td>\n",
       "    </tr>\n",
       "    <tr>\n",
       "      <th>2</th>\n",
       "      <td>40</td>\n",
       "      <td>30</td>\n",
       "      <td>30</td>\n",
       "      <td>47</td>\n",
       "      <td>43</td>\n",
       "      <td>51</td>\n",
       "      <td>0</td>\n",
       "      <td>0</td>\n",
       "      <td>0</td>\n",
       "      <td>30</td>\n",
       "      <td>30</td>\n",
       "      <td>0</td>\n",
       "      <td>30</td>\n",
       "      <td>2021-09-15 16:33:00</td>\n",
       "    </tr>\n",
       "    <tr>\n",
       "      <th>3</th>\n",
       "      <td>47</td>\n",
       "      <td>30</td>\n",
       "      <td>0</td>\n",
       "      <td>53</td>\n",
       "      <td>42</td>\n",
       "      <td>39</td>\n",
       "      <td>0</td>\n",
       "      <td>0</td>\n",
       "      <td>30</td>\n",
       "      <td>30</td>\n",
       "      <td>0</td>\n",
       "      <td>30</td>\n",
       "      <td>30</td>\n",
       "      <td>2021-09-16 17:06:00</td>\n",
       "    </tr>\n",
       "    <tr>\n",
       "      <th>4</th>\n",
       "      <td>46</td>\n",
       "      <td>30</td>\n",
       "      <td>30</td>\n",
       "      <td>44</td>\n",
       "      <td>37</td>\n",
       "      <td>51</td>\n",
       "      <td>0</td>\n",
       "      <td>30</td>\n",
       "      <td>30</td>\n",
       "      <td>0</td>\n",
       "      <td>30</td>\n",
       "      <td>30</td>\n",
       "      <td>30</td>\n",
       "      <td>2021-09-17 06:32:00</td>\n",
       "    </tr>\n",
       "  </tbody>\n",
       "</table>\n",
       "</div>"
      ],
      "text/plain": [
       "   D일 투입예정 수량(D일계획)  D+1일 투입예정 수량(Total)  D+2일 투입예정 수량(Total)  \\\n",
       "0                42                   32                   30   \n",
       "1                40                   30                   30   \n",
       "2                40                   30                   30   \n",
       "3                47                   30                    0   \n",
       "4                46                   30                   30   \n",
       "\n",
       "   D+3일 투입예정 수량(Total)  D+4일 투입예정 수량(Total)  D+5일 투입예정 수량  D+6일 투입예정 수량  \\\n",
       "0                   30                   30            38             0   \n",
       "1                   30                   50            45            30   \n",
       "2                   47                   43            51             0   \n",
       "3                   53                   42            39             0   \n",
       "4                   44                   37            51             0   \n",
       "\n",
       "   D+7일 투입예정 수량  D+8일 투입예정 수량  D+9일 투입예정 수량  D+10일 투입예정 수량  D+11일 투입예정 수량  \\\n",
       "0            30            30            30             30             30   \n",
       "1            30            30            30             30              0   \n",
       "2             0             0            30             30              0   \n",
       "3             0            30            30              0             30   \n",
       "4            30            30             0             30             30   \n",
       "\n",
       "   D+12일 투입예정 수량           CRET_TIME  \n",
       "0              0 2021-09-13 18:30:00  \n",
       "1              0 2021-09-14 17:30:00  \n",
       "2             30 2021-09-15 16:33:00  \n",
       "3             30 2021-09-16 17:06:00  \n",
       "4             30 2021-09-17 06:32:00  "
      ]
     },
     "execution_count": 323,
     "metadata": {},
     "output_type": "execute_result"
    }
   ],
   "source": [
    "# 누락 데이터 확인\n",
    "data_94.isna().sum()\n",
    "\n",
    "# 필요 없는 열 제거\n",
    "coloumn = ['D일 투입예정 수량(D일계획)',\t'D+1일 투입예정 수량(Total)',\t'D+2일 투입예정 수량(Total)',\t'D+3일 투입예정 수량(Total)',\t'D+4일 투입예정 수량(Total)',\t'D+5일 투입예정 수량', 'D+6일 투입예정 수량',\t'D+7일 투입예정 수량', 'D+8일 투입예정 수량',\t'D+9일 투입예정 수량', 'D+10일 투입예정 수량', 'D+11일 투입예정 수량', 'D+12일 투입예정 수량', 'CRET_TIME']\n",
    "data_94 = data_94.loc[:, coloumn]\n",
    "\n",
    "# 시간 데이터 변환\n",
    "data_94['CRET_TIME'] = pd.to_datetime(data_94['CRET_TIME'], format=\"%Y%m%d%H%M\")\n",
    "\n",
    "# 기록 일자에서 마지막 시각에 기록된 데이터만 추출\n",
    "data_94 = data_94.groupby(by=[\n",
    "  data_94['CRET_TIME'].dt.year,\n",
    "  data_94['CRET_TIME'].dt.month,\n",
    "  data_94['CRET_TIME'].dt.day]).last()\n",
    "data_94.reset_index(drop=True, inplace=True)\n",
    "\n",
    "data_94.head()"
   ]
  },
  {
   "cell_type": "code",
   "execution_count": 324,
   "metadata": {},
   "outputs": [
    {
     "data": {
      "text/html": [
       "<div>\n",
       "<style scoped>\n",
       "    .dataframe tbody tr th:only-of-type {\n",
       "        vertical-align: middle;\n",
       "    }\n",
       "\n",
       "    .dataframe tbody tr th {\n",
       "        vertical-align: top;\n",
       "    }\n",
       "\n",
       "    .dataframe thead th {\n",
       "        text-align: right;\n",
       "    }\n",
       "</style>\n",
       "<table border=\"1\" class=\"dataframe\">\n",
       "  <thead>\n",
       "    <tr style=\"text-align: right;\">\n",
       "      <th></th>\n",
       "      <th>D일 투입예정 수량(D일계획)</th>\n",
       "      <th>D+1일 투입예정 수량(Total)</th>\n",
       "      <th>D+2일 투입예정 수량(Total)</th>\n",
       "      <th>D+3일 투입예정 수량(Total)</th>\n",
       "      <th>D+4일 투입예정 수량(Total)</th>\n",
       "      <th>D+5일 투입예정 수량</th>\n",
       "      <th>D+6일 투입예정 수량</th>\n",
       "      <th>D+7일 투입예정 수량</th>\n",
       "      <th>D+8일 투입예정 수량</th>\n",
       "      <th>D+9일 투입예정 수량</th>\n",
       "      <th>D+10일 투입예정 수량</th>\n",
       "      <th>D+11일 투입예정 수량</th>\n",
       "      <th>D+12일 투입예정 수량</th>\n",
       "    </tr>\n",
       "  </thead>\n",
       "  <tbody>\n",
       "    <tr>\n",
       "      <th>D일 투입예정 수량(D일계획)</th>\n",
       "      <td>1.000000</td>\n",
       "      <td>0.651721</td>\n",
       "      <td>0.408578</td>\n",
       "      <td>0.393761</td>\n",
       "      <td>0.136667</td>\n",
       "      <td>0.388251</td>\n",
       "      <td>0.018768</td>\n",
       "      <td>0.127412</td>\n",
       "      <td>0.246102</td>\n",
       "      <td>0.024242</td>\n",
       "      <td>0.215673</td>\n",
       "      <td>0.103277</td>\n",
       "      <td>0.081598</td>\n",
       "    </tr>\n",
       "    <tr>\n",
       "      <th>D+1일 투입예정 수량(Total)</th>\n",
       "      <td>0.651721</td>\n",
       "      <td>1.000000</td>\n",
       "      <td>0.567057</td>\n",
       "      <td>0.007026</td>\n",
       "      <td>-0.052853</td>\n",
       "      <td>-0.074226</td>\n",
       "      <td>-0.028867</td>\n",
       "      <td>0.114627</td>\n",
       "      <td>0.345470</td>\n",
       "      <td>0.079831</td>\n",
       "      <td>0.286655</td>\n",
       "      <td>0.184163</td>\n",
       "      <td>0.178313</td>\n",
       "    </tr>\n",
       "  </tbody>\n",
       "</table>\n",
       "</div>"
      ],
      "text/plain": [
       "                     D일 투입예정 수량(D일계획)  D+1일 투입예정 수량(Total)  \\\n",
       "D일 투입예정 수량(D일계획)             1.000000             0.651721   \n",
       "D+1일 투입예정 수량(Total)          0.651721             1.000000   \n",
       "\n",
       "                     D+2일 투입예정 수량(Total)  D+3일 투입예정 수량(Total)  \\\n",
       "D일 투입예정 수량(D일계획)                0.408578             0.393761   \n",
       "D+1일 투입예정 수량(Total)             0.567057             0.007026   \n",
       "\n",
       "                     D+4일 투입예정 수량(Total)  D+5일 투입예정 수량  D+6일 투입예정 수량  \\\n",
       "D일 투입예정 수량(D일계획)                0.136667      0.388251      0.018768   \n",
       "D+1일 투입예정 수량(Total)            -0.052853     -0.074226     -0.028867   \n",
       "\n",
       "                     D+7일 투입예정 수량  D+8일 투입예정 수량  D+9일 투입예정 수량  D+10일 투입예정 수량  \\\n",
       "D일 투입예정 수량(D일계획)         0.127412      0.246102      0.024242       0.215673   \n",
       "D+1일 투입예정 수량(Total)      0.114627      0.345470      0.079831       0.286655   \n",
       "\n",
       "                     D+11일 투입예정 수량  D+12일 투입예정 수량  \n",
       "D일 투입예정 수량(D일계획)          0.103277       0.081598  \n",
       "D+1일 투입예정 수량(Total)       0.184163       0.178313  "
      ]
     },
     "execution_count": 324,
     "metadata": {},
     "output_type": "execute_result"
    }
   ],
   "source": [
    "# 데이터 당일 예상 수량과 당일+ 수량이 같은 행에 걸치게 재배치\n",
    "corr_data_94 = pd.concat([\n",
    "  data_94.iloc[12:, :]['D일 투입예정 수량(D일계획)'].reset_index(drop=True),\n",
    "  data_94.iloc[11:-1, :]['D+1일 투입예정 수량(Total)'].reset_index(drop=True),\n",
    "  data_94.iloc[10:-2, :]['D+2일 투입예정 수량(Total)'].reset_index(drop=True),\n",
    "  data_94.iloc[9:-3, :]['D+3일 투입예정 수량(Total)'].reset_index(drop=True),\n",
    "  data_94.iloc[8:-4, :]['D+4일 투입예정 수량(Total)'].reset_index(drop=True),\n",
    "  data_94.iloc[7:-5, :]['D+5일 투입예정 수량'].reset_index(drop=True),\n",
    "  data_94.iloc[6:-6, :]['D+6일 투입예정 수량'].reset_index(drop=True),\n",
    "  data_94.iloc[5:-7, :]['D+7일 투입예정 수량'].reset_index(drop=True),\n",
    "  data_94.iloc[4:-8, :]['D+8일 투입예정 수량'].reset_index(drop=True),\n",
    "  data_94.iloc[3:-9, :]['D+9일 투입예정 수량'].reset_index(drop=True),\n",
    "  data_94.iloc[2:-10, :]['D+10일 투입예정 수량'].reset_index(drop=True),\n",
    "  data_94.iloc[1:-11, :]['D+11일 투입예정 수량'].reset_index(drop=True),\n",
    "  data_94.iloc[:-12, :]['D+12일 투입예정 수량'].reset_index(drop=True)],\n",
    "axis=1)\n",
    "\n",
    "# 상관계수 확인\n",
    "corr_data_94.corr().head(2)\n"
   ]
  },
  {
   "cell_type": "code",
   "execution_count": 325,
   "metadata": {},
   "outputs": [
    {
     "data": {
      "text/html": [
       "<div>\n",
       "<style scoped>\n",
       "    .dataframe tbody tr th:only-of-type {\n",
       "        vertical-align: middle;\n",
       "    }\n",
       "\n",
       "    .dataframe tbody tr th {\n",
       "        vertical-align: top;\n",
       "    }\n",
       "\n",
       "    .dataframe thead th {\n",
       "        text-align: right;\n",
       "    }\n",
       "</style>\n",
       "<table border=\"1\" class=\"dataframe\">\n",
       "  <thead>\n",
       "    <tr style=\"text-align: right;\">\n",
       "      <th></th>\n",
       "      <th>D일 투입예정 수량(D일계획)</th>\n",
       "      <th>D+1일 투입예정 수량(Total)</th>\n",
       "      <th>D+2일 투입예정 수량(Total)</th>\n",
       "      <th>D+3일 투입예정 수량(Total)</th>\n",
       "    </tr>\n",
       "  </thead>\n",
       "  <tbody>\n",
       "    <tr>\n",
       "      <th>0</th>\n",
       "      <td>42</td>\n",
       "      <td>32</td>\n",
       "      <td>30</td>\n",
       "      <td>30</td>\n",
       "    </tr>\n",
       "    <tr>\n",
       "      <th>1</th>\n",
       "      <td>40</td>\n",
       "      <td>30</td>\n",
       "      <td>30</td>\n",
       "      <td>30</td>\n",
       "    </tr>\n",
       "    <tr>\n",
       "      <th>2</th>\n",
       "      <td>40</td>\n",
       "      <td>30</td>\n",
       "      <td>30</td>\n",
       "      <td>47</td>\n",
       "    </tr>\n",
       "    <tr>\n",
       "      <th>3</th>\n",
       "      <td>47</td>\n",
       "      <td>30</td>\n",
       "      <td>0</td>\n",
       "      <td>53</td>\n",
       "    </tr>\n",
       "    <tr>\n",
       "      <th>4</th>\n",
       "      <td>46</td>\n",
       "      <td>30</td>\n",
       "      <td>30</td>\n",
       "      <td>44</td>\n",
       "    </tr>\n",
       "  </tbody>\n",
       "</table>\n",
       "</div>"
      ],
      "text/plain": [
       "   D일 투입예정 수량(D일계획)  D+1일 투입예정 수량(Total)  D+2일 투입예정 수량(Total)  \\\n",
       "0                42                   32                   30   \n",
       "1                40                   30                   30   \n",
       "2                40                   30                   30   \n",
       "3                47                   30                    0   \n",
       "4                46                   30                   30   \n",
       "\n",
       "   D+3일 투입예정 수량(Total)  \n",
       "0                   30  \n",
       "1                   30  \n",
       "2                   47  \n",
       "3                   53  \n",
       "4                   44  "
      ]
     },
     "execution_count": 325,
     "metadata": {},
     "output_type": "execute_result"
    }
   ],
   "source": [
    "# 데이터 선정 (상관계수가 높은 3일 이내의 데이터)\n",
    "data_94 = data_94.loc[:, [\n",
    "  'D일 투입예정 수량(D일계획)',\n",
    "  'D+1일 투입예정 수량(Total)',\n",
    "  'D+2일 투입예정 수량(Total)',\t\n",
    "  'D+3일 투입예정 수량(Total)']]\n",
    "data_94.reset_index(drop=True, inplace=True)\n",
    "data_94.head()"
   ]
  },
  {
   "cell_type": "code",
   "execution_count": 326,
   "metadata": {},
   "outputs": [
    {
     "name": "stdout",
     "output_type": "stream",
     "text": [
      "X의 형태:  (46, 3, 4)\n",
      "y의 형태:  (46,)\n"
     ]
    }
   ],
   "source": [
    "#\t사용자 정의 함수 만들기\n",
    "def\tto_timeseries_data(data):\n",
    "  #\tdata는 원본\ttabular\t데이터\n",
    "\n",
    "  output_len = len(data)-3\n",
    "  n_feature\t=\tdata.shape[-1]\t#\t=4\n",
    "  inputs = np.zeros((output_len, 3, n_feature))\t#\t(N,3,4)\n",
    "  targets = np.zeros((output_len,))\t#\t(N,)\n",
    "  for\ti\tin range(output_len):\n",
    "    inputs[i]\t= data.iloc[i:i+3, :]\n",
    "    targets[i] = data.iloc[i+3,\t0]\n",
    "  return inputs, targets\n",
    "\n",
    "#\t사용자 정의 함수 적용\n",
    "X_94,\ty_94 = to_timeseries_data(data_94)\n",
    "print(\"X의 형태: \",X_94.shape)\n",
    "print(\"y의 형태: \",y_94.shape)"
   ]
  },
  {
   "cell_type": "code",
   "execution_count": 327,
   "metadata": {},
   "outputs": [],
   "source": [
    "# 데이터 분리\n",
    "X_train_94,\tX_val_94,\tX_test_94\t=\tnp.split(X_94, [int(0.7*len(X_94)), int(0.8*len(X_94))])\t\n",
    "y_train_94,\ty_val_94,\ty_test_94\t=\tnp.split(y_94, [int(0.7*len(y_94)), int(0.8*len(y_94))])\n",
    "\n",
    "#\t데이터 분리 및 정규화(평균 0,\t표준편차\t1)\n",
    "Xscaler_94 = StandardScaler()\n",
    "X_train_94 = Xscaler_94.fit_transform(X_train_94.reshape(-1,\tX_train_94.shape[-1])).reshape(X_train_94.shape)\n",
    "X_val_94 = Xscaler_94.transform(X_val_94.reshape(-1,\tX_val_94.shape[-1])).reshape(X_val_94.shape)\n",
    "X_test_94 = Xscaler_94.transform(X_test_94.reshape(-1,\tX_test_94.shape[-1])).reshape(X_test_94.shape)\n",
    "yscaler_94 = StandardScaler()\n",
    "y_train_94 = yscaler_94.fit_transform(y_train_94.reshape(-1,1))\n",
    "y_val_94 = yscaler_94.transform(y_val_94.reshape(-1,1))\n",
    "y_test_94 = yscaler_94.transform(y_test_94.reshape(-1,1))\n"
   ]
  },
  {
   "cell_type": "code",
   "execution_count": 328,
   "metadata": {},
   "outputs": [
    {
     "name": "stderr",
     "output_type": "stream",
     "text": [
      "c:\\ML-Learn\\.venv\\Lib\\site-packages\\keras\\src\\layers\\rnn\\rnn.py:200: UserWarning: Do not pass an `input_shape`/`input_dim` argument to a layer. When using Sequential models, prefer using an `Input(shape)` object as the first layer in the model instead.\n",
      "  super().__init__(**kwargs)\n"
     ]
    },
    {
     "data": {
      "text/html": [
       "<pre style=\"white-space:pre;overflow-x:auto;line-height:normal;font-family:Menlo,'DejaVu Sans Mono',consolas,'Courier New',monospace\"><span style=\"font-weight: bold\">Model: \"sequential_16\"</span>\n",
       "</pre>\n"
      ],
      "text/plain": [
       "\u001b[1mModel: \"sequential_16\"\u001b[0m\n"
      ]
     },
     "metadata": {},
     "output_type": "display_data"
    },
    {
     "data": {
      "text/html": [
       "<pre style=\"white-space:pre;overflow-x:auto;line-height:normal;font-family:Menlo,'DejaVu Sans Mono',consolas,'Courier New',monospace\">┏━━━━━━━━━━━━━━━━━━━━━━━━━━━━━━━━━┳━━━━━━━━━━━━━━━━━━━━━━━━┳━━━━━━━━━━━━━━━┓\n",
       "┃<span style=\"font-weight: bold\"> Layer (type)                    </span>┃<span style=\"font-weight: bold\"> Output Shape           </span>┃<span style=\"font-weight: bold\">       Param # </span>┃\n",
       "┡━━━━━━━━━━━━━━━━━━━━━━━━━━━━━━━━━╇━━━━━━━━━━━━━━━━━━━━━━━━╇━━━━━━━━━━━━━━━┩\n",
       "│ lstm_32 (<span style=\"color: #0087ff; text-decoration-color: #0087ff\">LSTM</span>)                  │ (<span style=\"color: #00d7ff; text-decoration-color: #00d7ff\">None</span>, <span style=\"color: #00af00; text-decoration-color: #00af00\">3</span>, <span style=\"color: #00af00; text-decoration-color: #00af00\">8</span>)           │           <span style=\"color: #00af00; text-decoration-color: #00af00\">416</span> │\n",
       "├─────────────────────────────────┼────────────────────────┼───────────────┤\n",
       "│ lstm_33 (<span style=\"color: #0087ff; text-decoration-color: #0087ff\">LSTM</span>)                  │ (<span style=\"color: #00d7ff; text-decoration-color: #00d7ff\">None</span>, <span style=\"color: #00af00; text-decoration-color: #00af00\">8</span>)              │           <span style=\"color: #00af00; text-decoration-color: #00af00\">544</span> │\n",
       "├─────────────────────────────────┼────────────────────────┼───────────────┤\n",
       "│ dense_16 (<span style=\"color: #0087ff; text-decoration-color: #0087ff\">Dense</span>)                │ (<span style=\"color: #00d7ff; text-decoration-color: #00d7ff\">None</span>, <span style=\"color: #00af00; text-decoration-color: #00af00\">1</span>)              │             <span style=\"color: #00af00; text-decoration-color: #00af00\">9</span> │\n",
       "└─────────────────────────────────┴────────────────────────┴───────────────┘\n",
       "</pre>\n"
      ],
      "text/plain": [
       "┏━━━━━━━━━━━━━━━━━━━━━━━━━━━━━━━━━┳━━━━━━━━━━━━━━━━━━━━━━━━┳━━━━━━━━━━━━━━━┓\n",
       "┃\u001b[1m \u001b[0m\u001b[1mLayer (type)                   \u001b[0m\u001b[1m \u001b[0m┃\u001b[1m \u001b[0m\u001b[1mOutput Shape          \u001b[0m\u001b[1m \u001b[0m┃\u001b[1m \u001b[0m\u001b[1m      Param #\u001b[0m\u001b[1m \u001b[0m┃\n",
       "┡━━━━━━━━━━━━━━━━━━━━━━━━━━━━━━━━━╇━━━━━━━━━━━━━━━━━━━━━━━━╇━━━━━━━━━━━━━━━┩\n",
       "│ lstm_32 (\u001b[38;5;33mLSTM\u001b[0m)                  │ (\u001b[38;5;45mNone\u001b[0m, \u001b[38;5;34m3\u001b[0m, \u001b[38;5;34m8\u001b[0m)           │           \u001b[38;5;34m416\u001b[0m │\n",
       "├─────────────────────────────────┼────────────────────────┼───────────────┤\n",
       "│ lstm_33 (\u001b[38;5;33mLSTM\u001b[0m)                  │ (\u001b[38;5;45mNone\u001b[0m, \u001b[38;5;34m8\u001b[0m)              │           \u001b[38;5;34m544\u001b[0m │\n",
       "├─────────────────────────────────┼────────────────────────┼───────────────┤\n",
       "│ dense_16 (\u001b[38;5;33mDense\u001b[0m)                │ (\u001b[38;5;45mNone\u001b[0m, \u001b[38;5;34m1\u001b[0m)              │             \u001b[38;5;34m9\u001b[0m │\n",
       "└─────────────────────────────────┴────────────────────────┴───────────────┘\n"
      ]
     },
     "metadata": {},
     "output_type": "display_data"
    },
    {
     "data": {
      "text/html": [
       "<pre style=\"white-space:pre;overflow-x:auto;line-height:normal;font-family:Menlo,'DejaVu Sans Mono',consolas,'Courier New',monospace\"><span style=\"font-weight: bold\"> Total params: </span><span style=\"color: #00af00; text-decoration-color: #00af00\">969</span> (3.79 KB)\n",
       "</pre>\n"
      ],
      "text/plain": [
       "\u001b[1m Total params: \u001b[0m\u001b[38;5;34m969\u001b[0m (3.79 KB)\n"
      ]
     },
     "metadata": {},
     "output_type": "display_data"
    },
    {
     "data": {
      "text/html": [
       "<pre style=\"white-space:pre;overflow-x:auto;line-height:normal;font-family:Menlo,'DejaVu Sans Mono',consolas,'Courier New',monospace\"><span style=\"font-weight: bold\"> Trainable params: </span><span style=\"color: #00af00; text-decoration-color: #00af00\">969</span> (3.79 KB)\n",
       "</pre>\n"
      ],
      "text/plain": [
       "\u001b[1m Trainable params: \u001b[0m\u001b[38;5;34m969\u001b[0m (3.79 KB)\n"
      ]
     },
     "metadata": {},
     "output_type": "display_data"
    },
    {
     "data": {
      "text/html": [
       "<pre style=\"white-space:pre;overflow-x:auto;line-height:normal;font-family:Menlo,'DejaVu Sans Mono',consolas,'Courier New',monospace\"><span style=\"font-weight: bold\"> Non-trainable params: </span><span style=\"color: #00af00; text-decoration-color: #00af00\">0</span> (0.00 B)\n",
       "</pre>\n"
      ],
      "text/plain": [
       "\u001b[1m Non-trainable params: \u001b[0m\u001b[38;5;34m0\u001b[0m (0.00 B)\n"
      ]
     },
     "metadata": {},
     "output_type": "display_data"
    }
   ],
   "source": [
    "# 분석 모델 구축\n",
    "tf.random.set_seed(42)\n",
    "model\t=\tkeras.Sequential(\n",
    "  [\n",
    "    keras.layers.LSTM(8, dropout=0.2,\tactivation='relu', input_shape=(3,4),\treturn_sequences=True),\n",
    "    keras.layers.LSTM(8, dropout=0.2,\tactivation='relu'),\n",
    "    keras.layers.Dense(1,\tactivation='linear')\n",
    "  ]\n",
    ")\n",
    "model.summary()"
   ]
  },
  {
   "cell_type": "code",
   "execution_count": 329,
   "metadata": {},
   "outputs": [
    {
     "name": "stdout",
     "output_type": "stream",
     "text": [
      "Epoch 1/100\n",
      "\u001b[1m8/8\u001b[0m \u001b[32m━━━━━━━━━━━━━━━━━━━━\u001b[0m\u001b[37m\u001b[0m \u001b[1m2s\u001b[0m 45ms/step - loss: 0.7831 - val_loss: 0.6614\n",
      "Epoch 2/100\n",
      "\u001b[1m8/8\u001b[0m \u001b[32m━━━━━━━━━━━━━━━━━━━━\u001b[0m\u001b[37m\u001b[0m \u001b[1m0s\u001b[0m 10ms/step - loss: 0.7761 - val_loss: 0.6602\n",
      "Epoch 3/100\n",
      "\u001b[1m8/8\u001b[0m \u001b[32m━━━━━━━━━━━━━━━━━━━━\u001b[0m\u001b[37m\u001b[0m \u001b[1m0s\u001b[0m 11ms/step - loss: 0.7699 - val_loss: 0.6586\n",
      "Epoch 4/100\n",
      "\u001b[1m8/8\u001b[0m \u001b[32m━━━━━━━━━━━━━━━━━━━━\u001b[0m\u001b[37m\u001b[0m \u001b[1m0s\u001b[0m 13ms/step - loss: 0.7765 - val_loss: 0.6570\n",
      "Epoch 5/100\n",
      "\u001b[1m8/8\u001b[0m \u001b[32m━━━━━━━━━━━━━━━━━━━━\u001b[0m\u001b[37m\u001b[0m \u001b[1m0s\u001b[0m 11ms/step - loss: 0.7617 - val_loss: 0.6556\n",
      "Epoch 6/100\n",
      "\u001b[1m8/8\u001b[0m \u001b[32m━━━━━━━━━━━━━━━━━━━━\u001b[0m\u001b[37m\u001b[0m \u001b[1m0s\u001b[0m 11ms/step - loss: 0.7829 - val_loss: 0.6540\n",
      "Epoch 7/100\n",
      "\u001b[1m8/8\u001b[0m \u001b[32m━━━━━━━━━━━━━━━━━━━━\u001b[0m\u001b[37m\u001b[0m \u001b[1m0s\u001b[0m 11ms/step - loss: 0.7769 - val_loss: 0.6520\n",
      "Epoch 8/100\n",
      "\u001b[1m8/8\u001b[0m \u001b[32m━━━━━━━━━━━━━━━━━━━━\u001b[0m\u001b[37m\u001b[0m \u001b[1m0s\u001b[0m 11ms/step - loss: 0.7691 - val_loss: 0.6506\n",
      "Epoch 9/100\n",
      "\u001b[1m8/8\u001b[0m \u001b[32m━━━━━━━━━━━━━━━━━━━━\u001b[0m\u001b[37m\u001b[0m \u001b[1m0s\u001b[0m 11ms/step - loss: 0.7509 - val_loss: 0.6486\n",
      "Epoch 10/100\n",
      "\u001b[1m8/8\u001b[0m \u001b[32m━━━━━━━━━━━━━━━━━━━━\u001b[0m\u001b[37m\u001b[0m \u001b[1m0s\u001b[0m 11ms/step - loss: 0.7403 - val_loss: 0.6454\n",
      "Epoch 11/100\n",
      "\u001b[1m8/8\u001b[0m \u001b[32m━━━━━━━━━━━━━━━━━━━━\u001b[0m\u001b[37m\u001b[0m \u001b[1m0s\u001b[0m 11ms/step - loss: 0.7274 - val_loss: 0.6417\n",
      "Epoch 12/100\n",
      "\u001b[1m8/8\u001b[0m \u001b[32m━━━━━━━━━━━━━━━━━━━━\u001b[0m\u001b[37m\u001b[0m \u001b[1m0s\u001b[0m 11ms/step - loss: 0.7276 - val_loss: 0.6373\n",
      "Epoch 13/100\n",
      "\u001b[1m8/8\u001b[0m \u001b[32m━━━━━━━━━━━━━━━━━━━━\u001b[0m\u001b[37m\u001b[0m \u001b[1m0s\u001b[0m 11ms/step - loss: 0.7358 - val_loss: 0.6321\n",
      "Epoch 14/100\n",
      "\u001b[1m8/8\u001b[0m \u001b[32m━━━━━━━━━━━━━━━━━━━━\u001b[0m\u001b[37m\u001b[0m \u001b[1m0s\u001b[0m 11ms/step - loss: 0.7059 - val_loss: 0.6260\n",
      "Epoch 15/100\n",
      "\u001b[1m8/8\u001b[0m \u001b[32m━━━━━━━━━━━━━━━━━━━━\u001b[0m\u001b[37m\u001b[0m \u001b[1m0s\u001b[0m 10ms/step - loss: 0.7158 - val_loss: 0.6198\n",
      "Epoch 16/100\n",
      "\u001b[1m8/8\u001b[0m \u001b[32m━━━━━━━━━━━━━━━━━━━━\u001b[0m\u001b[37m\u001b[0m \u001b[1m0s\u001b[0m 13ms/step - loss: 0.6879 - val_loss: 0.6126\n",
      "Epoch 17/100\n",
      "\u001b[1m8/8\u001b[0m \u001b[32m━━━━━━━━━━━━━━━━━━━━\u001b[0m\u001b[37m\u001b[0m \u001b[1m0s\u001b[0m 11ms/step - loss: 0.6982 - val_loss: 0.6039\n",
      "Epoch 18/100\n",
      "\u001b[1m8/8\u001b[0m \u001b[32m━━━━━━━━━━━━━━━━━━━━\u001b[0m\u001b[37m\u001b[0m \u001b[1m0s\u001b[0m 11ms/step - loss: 0.6796 - val_loss: 0.5941\n",
      "Epoch 19/100\n",
      "\u001b[1m8/8\u001b[0m \u001b[32m━━━━━━━━━━━━━━━━━━━━\u001b[0m\u001b[37m\u001b[0m \u001b[1m0s\u001b[0m 11ms/step - loss: 0.5154 - val_loss: 0.5809\n",
      "Epoch 20/100\n",
      "\u001b[1m8/8\u001b[0m \u001b[32m━━━━━━━━━━━━━━━━━━━━\u001b[0m\u001b[37m\u001b[0m \u001b[1m0s\u001b[0m 11ms/step - loss: 0.5988 - val_loss: 0.5676\n",
      "Epoch 21/100\n",
      "\u001b[1m8/8\u001b[0m \u001b[32m━━━━━━━━━━━━━━━━━━━━\u001b[0m\u001b[37m\u001b[0m \u001b[1m0s\u001b[0m 11ms/step - loss: 0.4791 - val_loss: 0.5633\n",
      "Epoch 22/100\n",
      "\u001b[1m8/8\u001b[0m \u001b[32m━━━━━━━━━━━━━━━━━━━━\u001b[0m\u001b[37m\u001b[0m \u001b[1m0s\u001b[0m 11ms/step - loss: 0.5152 - val_loss: 0.5566\n",
      "Epoch 23/100\n",
      "\u001b[1m8/8\u001b[0m \u001b[32m━━━━━━━━━━━━━━━━━━━━\u001b[0m\u001b[37m\u001b[0m \u001b[1m0s\u001b[0m 11ms/step - loss: 0.6592 - val_loss: 0.5487\n",
      "Epoch 24/100\n",
      "\u001b[1m8/8\u001b[0m \u001b[32m━━━━━━━━━━━━━━━━━━━━\u001b[0m\u001b[37m\u001b[0m \u001b[1m0s\u001b[0m 11ms/step - loss: 0.5787 - val_loss: 0.5414\n",
      "Epoch 25/100\n",
      "\u001b[1m8/8\u001b[0m \u001b[32m━━━━━━━━━━━━━━━━━━━━\u001b[0m\u001b[37m\u001b[0m \u001b[1m0s\u001b[0m 11ms/step - loss: 0.5791 - val_loss: 0.5343\n",
      "Epoch 26/100\n",
      "\u001b[1m8/8\u001b[0m \u001b[32m━━━━━━━━━━━━━━━━━━━━\u001b[0m\u001b[37m\u001b[0m \u001b[1m0s\u001b[0m 8ms/step - loss: 0.4761 - val_loss: 0.5456\n",
      "Epoch 27/100\n",
      "\u001b[1m8/8\u001b[0m \u001b[32m━━━━━━━━━━━━━━━━━━━━\u001b[0m\u001b[37m\u001b[0m \u001b[1m0s\u001b[0m 8ms/step - loss: 0.5210 - val_loss: 0.5476\n",
      "Epoch 28/100\n",
      "\u001b[1m8/8\u001b[0m \u001b[32m━━━━━━━━━━━━━━━━━━━━\u001b[0m\u001b[37m\u001b[0m \u001b[1m0s\u001b[0m 8ms/step - loss: 0.6290 - val_loss: 0.5527\n",
      "Epoch 29/100\n",
      "\u001b[1m8/8\u001b[0m \u001b[32m━━━━━━━━━━━━━━━━━━━━\u001b[0m\u001b[37m\u001b[0m \u001b[1m0s\u001b[0m 8ms/step - loss: 0.4642 - val_loss: 0.5539\n",
      "Epoch 30/100\n",
      "\u001b[1m8/8\u001b[0m \u001b[32m━━━━━━━━━━━━━━━━━━━━\u001b[0m\u001b[37m\u001b[0m \u001b[1m0s\u001b[0m 8ms/step - loss: 0.5183 - val_loss: 0.5514\n",
      "Epoch 31/100\n",
      "\u001b[1m8/8\u001b[0m \u001b[32m━━━━━━━━━━━━━━━━━━━━\u001b[0m\u001b[37m\u001b[0m \u001b[1m0s\u001b[0m 8ms/step - loss: 0.4338 - val_loss: 0.5563\n",
      "Epoch 32/100\n",
      "\u001b[1m8/8\u001b[0m \u001b[32m━━━━━━━━━━━━━━━━━━━━\u001b[0m\u001b[37m\u001b[0m \u001b[1m0s\u001b[0m 7ms/step - loss: 0.5158 - val_loss: 0.5572\n",
      "Epoch 33/100\n",
      "\u001b[1m8/8\u001b[0m \u001b[32m━━━━━━━━━━━━━━━━━━━━\u001b[0m\u001b[37m\u001b[0m \u001b[1m0s\u001b[0m 8ms/step - loss: 0.6764 - val_loss: 0.5557\n",
      "Epoch 34/100\n",
      "\u001b[1m8/8\u001b[0m \u001b[32m━━━━━━━━━━━━━━━━━━━━\u001b[0m\u001b[37m\u001b[0m \u001b[1m0s\u001b[0m 8ms/step - loss: 0.5207 - val_loss: 0.5566\n",
      "Epoch 35/100\n",
      "\u001b[1m8/8\u001b[0m \u001b[32m━━━━━━━━━━━━━━━━━━━━\u001b[0m\u001b[37m\u001b[0m \u001b[1m0s\u001b[0m 7ms/step - loss: 0.5176 - val_loss: 0.5563\n",
      "Epoch 36/100\n",
      "\u001b[1m8/8\u001b[0m \u001b[32m━━━━━━━━━━━━━━━━━━━━\u001b[0m\u001b[37m\u001b[0m \u001b[1m0s\u001b[0m 7ms/step - loss: 0.6704 - val_loss: 0.5540\n",
      "Epoch 37/100\n",
      "\u001b[1m8/8\u001b[0m \u001b[32m━━━━━━━━━━━━━━━━━━━━\u001b[0m\u001b[37m\u001b[0m \u001b[1m0s\u001b[0m 8ms/step - loss: 0.5270 - val_loss: 0.5573\n",
      "Epoch 38/100\n",
      "\u001b[1m8/8\u001b[0m \u001b[32m━━━━━━━━━━━━━━━━━━━━\u001b[0m\u001b[37m\u001b[0m \u001b[1m0s\u001b[0m 7ms/step - loss: 0.5401 - val_loss: 0.5598\n",
      "Epoch 39/100\n",
      "\u001b[1m8/8\u001b[0m \u001b[32m━━━━━━━━━━━━━━━━━━━━\u001b[0m\u001b[37m\u001b[0m \u001b[1m0s\u001b[0m 8ms/step - loss: 0.5307 - val_loss: 0.5599\n",
      "Epoch 40/100\n",
      "\u001b[1m8/8\u001b[0m \u001b[32m━━━━━━━━━━━━━━━━━━━━\u001b[0m\u001b[37m\u001b[0m \u001b[1m0s\u001b[0m 7ms/step - loss: 0.6256 - val_loss: 0.5593\n"
     ]
    }
   ],
   "source": [
    "# 모델 학습\n",
    "if os.path.isdir('./model'):\n",
    "  shutil.rmtree('./model')\n",
    "\n",
    "model_path = './model/{epoch:02d}-{val_loss:.4f}.keras'\n",
    "model.compile(optimizer='adam',\tloss='mae')\n",
    "history\t=\tmodel.fit(\n",
    "  X_train_94,\t\n",
    "  y_train_94,\t\n",
    "  epochs=100,\t\n",
    "  batch_size=4,\t\n",
    "  validation_data=(X_val_94, y_val_94),\n",
    "  callbacks=[\n",
    "    keras.callbacks.EarlyStopping(monitor='val_loss',\tpatience=15),\n",
    "    keras.callbacks.ModelCheckpoint(filepath=model_path,\tmonitor='val_loss',\tverbose=0,\tsave_best_only=True)\n",
    "  ])\n"
   ]
  },
  {
   "cell_type": "code",
   "execution_count": null,
   "metadata": {},
   "outputs": [
    {
     "data": {
      "image/png": "[encoded data removed]",
      "text/plain": [
       "<Figure size 640x480 with 1 Axes>"
      ]
     },
     "metadata": {},
     "output_type": "display_data"
    }
   ],
   "source": [
    "# 학습 결과 시각화 (손실함수)\n",
    "loss = history.history['loss']\n",
    "val_loss = history.history['val_loss']\n",
    "epoch = history.epoch\n",
    "plt.figure()\n",
    "plt.plot(epoch, loss, 'r', label='Training loss')\n",
    "plt.plot(epoch, val_loss, 'g', label='Validation loss')\n",
    "plt.title('Training and validation loss')\n",
    "plt.xlabel('Epochs')\n",
    "plt.ylabel('Mean Absolute Error')\n",
    "plt.legend()\n",
    "plt.show()"
   ]
  },
  {
   "cell_type": "code",
   "execution_count": 331,
   "metadata": {},
   "outputs": [
    {
     "name": "stdout",
     "output_type": "stream",
     "text": [
      "\u001b[1m1/1\u001b[0m \u001b[32m━━━━━━━━━━━━━━━━━━━━\u001b[0m\u001b[37m\u001b[0m \u001b[1m1s\u001b[0m 800ms/step - loss: 1.1137\n",
      "\u001b[1m1/1\u001b[0m \u001b[32m━━━━━━━━━━━━━━━━━━━━\u001b[0m\u001b[37m\u001b[0m \u001b[1m0s\u001b[0m 187ms/step\n"
     ]
    },
    {
     "data": {
      "image/png": "[encoded data removed]",
      "text/plain": [
       "<Figure size 640x480 with 1 Axes>"
      ]
     },
     "metadata": {},
     "output_type": "display_data"
    },
    {
     "name": "stdout",
     "output_type": "stream",
     "text": [
      "\n",
      "\u001b[91m\u001b[1m평균 절대 오차(MAE):\u001b[0m\n",
      "\n",
      "5.1016395568847654\n"
     ]
    }
   ],
   "source": [
    "# 모델 예측 및 평가\n",
    "best_model_name = os.listdir('./model')[-1]\n",
    "best_model = keras.models.load_model(f'./model/{best_model_name}')\n",
    "best_model.evaluate(X_test_94, y_test_94) # MAE\n",
    "\n",
    "# 예측 결과\n",
    "y_pred_94 = best_model.predict(X_test_94)\n",
    "\n",
    "# 예측 결과 역정규화\n",
    "y_pred_94_inv\t=\tyscaler_94.inverse_transform(y_pred_94)\n",
    "y_test_94_inv\t=\tyscaler_94.inverse_transform(y_test_94)\n",
    "\n",
    "# MAE 계산\n",
    "mae = mean_absolute_error(y_test_94_inv, y_pred_94_inv)\n",
    "\n",
    "# 예측 결과 시각화\n",
    "plt.figure()\n",
    "plt.plot(y_test_94_inv, label='True')\n",
    "plt.plot(y_pred_94_inv, label='Pred')\n",
    "plt.title('Prediction result')\n",
    "plt.xlabel('Data')\n",
    "plt.ylabel('Amount')\n",
    "plt.legend()\n",
    "plt.show()\n",
    "\n",
    "hprint(\"평균 절대 오차(MAE):\")\n",
    "print(mae)"
   ]
  }
 ],
 "metadata": {
  "kernelspec": {
   "display_name": ".venv",
   "language": "python",
   "name": "python3"
  },
  "language_info": {
   "codemirror_mode": {
    "name": "ipython",
    "version": 3
   },
   "file_extension": ".py",
   "mimetype": "text/x-python",
   "name": "python",
   "nbconvert_exporter": "python",
   "pygments_lexer": "ipython3",
   "version": "3.12.7"
  }
 },
 "nbformat": 4,
 "nbformat_minor": 2
}
