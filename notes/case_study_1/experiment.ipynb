{
 "cells": [
  {
   "cell_type": "markdown",
   "metadata": {},
   "source": [
    "# 살균기 AI 데이터셋 분석"
   ]
  },
  {
   "cell_type": "code",
   "execution_count": 1,
   "metadata": {},
   "outputs": [],
   "source": [
    "# 라이브러리 임포트\n",
    "from utils.hprint import hprint, TextStyle\n",
    "import pandas as pd\n",
    "import numpy as np\n",
    "import matplotlib\n",
    "import matplotlib.pyplot as plt\n",
    "import seaborn as sns\n",
    "from sklearn.tree import DecisionTreeClassifier, plot_tree\n",
    "from sklearn.model_selection import train_test_split\n",
    "from sklearn.metrics import confusion_matrix, accuracy_score, precision_score, recall_score, f1_score\n",
    "\n",
    "matplotlib.rc('font', family='Malgun Gothic')"
   ]
  },
  {
   "cell_type": "markdown",
   "metadata": {},
   "source": [
    "### 데이터 로드 및 확인"
   ]
  },
  {
   "cell_type": "code",
   "execution_count": null,
   "metadata": {},
   "outputs": [],
   "source": [
    "# 데이터 로드\n",
    "path = \"data.csv\"\n",
    "df = pd.read_csv(path)\n",
    "df"
   ]
  },
  {
   "cell_type": "markdown",
   "metadata": {},
   "source": [
    "### 데이터 통계 요약"
   ]
  },
  {
   "cell_type": "code",
   "execution_count": null,
   "metadata": {},
   "outputs": [],
   "source": [
    "hprint(\"데이터 정보:\")\n",
    "print(df.info())\n",
    "hprint(\"데이터 통계 정보:\")\n",
    "print(df.describe())\n",
    "hprint(\"데이터 히스토그램:\")\n",
    "df.hist(bins=10, figsize=(20, 15))"
   ]
  },
  {
   "cell_type": "markdown",
   "metadata": {},
   "source": [
    "### 데이터 전처리"
   ]
  },
  {
   "cell_type": "code",
   "execution_count": null,
   "metadata": {},
   "outputs": [],
   "source": [
    "# 데이터 전처리\n",
    "df = df.dropna()  # 결측치 제거\n",
    "df = df[(df['MIXA_PASTEUR_STATE'] <= 1) & (df['MIXB_PASTEUR_STATE'] <= 1)]  # 비정상 데이터 제거\n",
    "\n",
    "# 데이터 확인\n",
    "hprint(f\"전처리 데이터 통계 정보:\")\n",
    "print(df.describe())\n",
    "hprint(\"전처리 데이터 히스토그램:\")\n",
    "df.hist(bins=10, figsize=(20, 15))"
   ]
  },
  {
   "cell_type": "markdown",
   "metadata": {},
   "source": [
    "### 데이터 분할"
   ]
  },
  {
   "cell_type": "code",
   "execution_count": null,
   "metadata": {},
   "outputs": [],
   "source": [
    "# 독립변수와 종속변수 설정\n",
    "X = df.iloc[:, 1:5].values\n",
    "y = df.iloc[:, -1].values\n",
    "y = np.where(y == 'OK', 1, 0)\n",
    "y = y.ravel()\n",
    "hprint(\"독립변수:\")\n",
    "print(X)\n",
    "hprint(\"종속변수:\")\n",
    "print(y)\n",
    "\n",
    "# 학습/테스트 데이터 분리\n",
    "X_train, X_test, y_train, y_test = train_test_split(\n",
    "  X, y, \n",
    "  test_size=0.3, \n",
    "  random_state=1,\n",
    "  stratify=y,\n",
    "  shuffle=True)"
   ]
  },
  {
   "cell_type": "markdown",
   "metadata": {},
   "source": [
    "### Decision Tree 모델 학습"
   ]
  },
  {
   "cell_type": "code",
   "execution_count": null,
   "metadata": {},
   "outputs": [],
   "source": [
    "# 8. 의사결정나무 모델 생성 및 학습\n",
    "dt_clf = DecisionTreeClassifier(\n",
    "  criterion='gini',\n",
    "  splitter='best',\n",
    "  max_depth=3,\n",
    "  min_samples_split=2,\n",
    "  min_samples_leaf=1,\n",
    "  min_weight_fraction_leaf=0.0,\n",
    "  max_features=None,\n",
    "  random_state=1,\n",
    "  max_leaf_nodes=None,\n",
    "  min_impurity_decrease=0.0,\n",
    "  class_weight=None,\n",
    "  ccp_alpha=0.0)\n",
    "dt_clf.fit(X_train, y_train)\n",
    "\n",
    "# 모델 시각화\n",
    "plt.figure(figsize=(10, 7))  # 그래프 크기 조정\n",
    "plot_tree(\n",
    "    dt_clf,\n",
    "    feature_names=['MIXA_PASTEUR_STATE', 'MIXB_PASTEUR_STATE', 'MIXA_PASTEUR_TEMP', 'MIXB_PASTEUR_TEMP'],\n",
    "    class_names=['불량', '양품'],\n",
    "    filled=True,\n",
    "    rounded=True\n",
    ")\n",
    "plt.show()"
   ]
  },
  {
   "cell_type": "markdown",
   "metadata": {},
   "source": [
    "### 모델 평가"
   ]
  },
  {
   "cell_type": "code",
   "execution_count": null,
   "metadata": {},
   "outputs": [],
   "source": [
    "# 모델 예측 및 평가\n",
    "y_pred = dt_clf.predict(X_test)\n",
    "\n",
    "# 혼동 행렬 계산\n",
    "confusion_matrix = confusion_matrix(y_test, y_pred, labels=[0, 1])\n",
    "\n",
    "# 혼돈 행렬 시각화\n",
    "plt.figure(figsize=(6, 5))\n",
    "sns.heatmap(\n",
    "  confusion_matrix, \n",
    "  annot=True, \n",
    "  fmt='d', \n",
    "  cmap='Blues', \n",
    "  xticklabels=['불량', '양품'], \n",
    "  yticklabels=['불량', '양품'])\n",
    "plt.xlabel('예측')\n",
    "plt.ylabel('실제')\n",
    "plt.title('Confusion Matrix')\n",
    "plt.show()\n",
    "\n",
    "hprint(\"정확도:\")\n",
    "print(accuracy_score(y_test, y_pred)) # 정확도: 예측 결과가 실제 결과와 일치하는 비율\n",
    "hprint(\"정밀도:\")\n",
    "print(precision_score(y_test, y_pred)) # 정밀도: 양성으로 예측한 결과 중 실제 양성인 비율\n",
    "hprint(\"재현율:\")\n",
    "print(recall_score(y_test, y_pred)) # 재현율: 실제 양성인 결과 중 양성으로 예측한 비율\n",
    "hprint(\"F1 Score:\")\n",
    "print(f1_score(y_test, y_pred)) # F1 Score: 정밀도와 재현율의 조화평균"
   ]
  }
 ],
 "metadata": {
  "kernelspec": {
   "display_name": ".venv",
   "language": "python",
   "name": "python3"
  },
  "language_info": {
   "codemirror_mode": {
    "name": "ipython",
    "version": 3
   },
   "file_extension": ".py",
   "mimetype": "text/x-python",
   "name": "python",
   "nbconvert_exporter": "python",
   "pygments_lexer": "ipython3",
   "version": "3.12.7"
  }
 },
 "nbformat": 4,
 "nbformat_minor": 2
}
