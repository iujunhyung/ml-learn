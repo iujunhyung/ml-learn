{
 "cells": [
  {
   "cell_type": "code",
   "execution_count": null,
   "metadata": {},
   "outputs": [],
   "source": [
    "# 라이브러리 임포트\n",
    "from utils.hprint import hprint\n",
    "import pandas as pd\n",
    "import numpy as np\n",
    "import matplotlib.pyplot as plt\n",
    "import seaborn as sns\n",
    "from sklearn.tree import DecisionTreeClassifier, plot_tree\n",
    "from sklearn.model_selection import train_test_split\n",
    "from sklearn.metrics import confusion_matrix, accuracy_score, precision_score, recall_score, f1_score"
   ]
  },
  {
   "cell_type": "code",
   "execution_count": null,
   "metadata": {},
   "outputs": [],
   "source": [
    "# 데이터 로드\n",
    "path = \"../resources/classification/10. Dataset_Pasteurizer/dataset/pasteurizer.csv\"\n",
    "df = pd.read_csv(path)"
   ]
  },
  {
   "cell_type": "code",
   "execution_count": null,
   "metadata": {},
   "outputs": [],
   "source": [
    "# 4. 데이터 확인\n",
    "hprint(\"데이터 확인:\")\n",
    "print(df.head())\n",
    "hprint(\"데이터 정보:\")\n",
    "print(df.info())\n",
    "hprint(\"데이터 통계 정보:\")\n",
    "print(df.describe())"
   ]
  },
  {
   "cell_type": "code",
   "execution_count": null,
   "metadata": {},
   "outputs": [],
   "source": [
    "# 5. 데이터 전처리\n",
    "df = df.dropna()  # 결측치 제거\n",
    "df = df[(df['MIXA_PASTEUR_STATE'] <= 1) & (df['MIXB_PASTEUR_STATE'] <= 1)]  # 비정상 데이터 제거"
   ]
  },
  {
   "cell_type": "code",
   "execution_count": null,
   "metadata": {},
   "outputs": [],
   "source": [
    "# 6. 독립변수와 종속변수 설정\n",
    "X = df[['MIXA_PASTEUR_TEMP', 'MIXB_PASTEUR_TEMP']]\n",
    "y = df['INSP'].apply(lambda x: 1 if x == 'OK' else 0)  # 양품(OK)을 1로, 불량(NG)을 0으로 변환"
   ]
  },
  {
   "cell_type": "code",
   "execution_count": null,
   "metadata": {},
   "outputs": [],
   "source": [
    "# 7. 학습/테스트 데이터 분리\n",
    "X_train, X_test, y_train, y_test = train_test_split(X, y, test_size=0.2, random_state=42)"
   ]
  },
  {
   "cell_type": "code",
   "execution_count": null,
   "metadata": {},
   "outputs": [],
   "source": [
    "# 8. 의사결정나무 모델 생성 및 학습\n",
    "dt_clf = DecisionTreeClassifier(max_depth=3, random_state=42)\n",
    "dt_clf.fit(X_train, y_train)"
   ]
  },
  {
   "cell_type": "code",
   "execution_count": null,
   "metadata": {},
   "outputs": [],
   "source": [
    "# 9. 모델 예측 및 평가\n",
    "y_pred = dt_clf.predict(X_test)\n",
    "hprint(\"Accuracy:\")\n",
    "print(accuracy_score(y_test, y_pred))\n",
    "hprint(\"Precision:\")\n",
    "print(precision_score(y_test, y_pred))\n",
    "hprint(\"Recall:\")\n",
    "print(recall_score(y_test, y_pred))\n",
    "hprint(\"F1 Score:\")\n",
    "print(f1_score(y_test, y_pred))"
   ]
  },
  {
   "cell_type": "code",
   "execution_count": null,
   "metadata": {},
   "outputs": [],
   "source": [
    "# 10. 모델 시각화\n",
    "plt.figure(figsize=(10, 7))  # 그래프 크기 조정\n",
    "plot_tree(\n",
    "    dt_clf,\n",
    "    feature_names=['MIXA_PASTEUR_TEMP', 'MIXB_PASTEUR_TEMP'],\n",
    "    class_names=['NG', 'OK'],\n",
    "    filled=True,\n",
    "    rounded=True\n",
    ")\n",
    "plt.show()"
   ]
  },
  {
   "cell_type": "code",
   "execution_count": null,
   "metadata": {},
   "outputs": [],
   "source": [
    "# 11. 결과 해석\n",
    "print(confusion_matrix(y_test, y_pred))  # 혼동 행렬 출력"
   ]
  }
 ],
 "metadata": {
  "kernelspec": {
   "display_name": ".venv",
   "language": "python",
   "name": "python3"
  },
  "language_info": {
   "codemirror_mode": {
    "name": "ipython",
    "version": 3
   },
   "file_extension": ".py",
   "mimetype": "text/x-python",
   "name": "python",
   "nbconvert_exporter": "python",
   "pygments_lexer": "ipython3",
   "version": "3.12.7"
  }
 },
 "nbformat": 4,
 "nbformat_minor": 2
}
